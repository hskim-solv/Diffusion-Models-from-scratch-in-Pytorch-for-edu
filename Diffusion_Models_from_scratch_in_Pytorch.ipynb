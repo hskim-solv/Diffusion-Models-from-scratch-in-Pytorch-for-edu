{
  "nbformat": 4,
  "nbformat_minor": 0,
  "metadata": {
    "colab": {
      "provenance": [],
      "authorship_tag": "ABX9TyO6fz5DSlVa8pMB/e591ZpN",
      "include_colab_link": true
    },
    "kernelspec": {
      "name": "python3",
      "display_name": "Python 3"
    },
    "language_info": {
      "name": "python"
    },
    "accelerator": "TPU",
    "gpuClass": "standard",
    "widgets": {
      "application/vnd.jupyter.widget-state+json": {
        "082ee12ad10e4360bdf67ffe8d12153e": {
          "model_module": "@jupyter-widgets/controls",
          "model_name": "HBoxModel",
          "model_module_version": "1.5.0",
          "state": {
            "_dom_classes": [],
            "_model_module": "@jupyter-widgets/controls",
            "_model_module_version": "1.5.0",
            "_model_name": "HBoxModel",
            "_view_count": null,
            "_view_module": "@jupyter-widgets/controls",
            "_view_module_version": "1.5.0",
            "_view_name": "HBoxView",
            "box_style": "",
            "children": [
              "IPY_MODEL_d999db311bd84e728cd9459bc1c11ef1",
              "IPY_MODEL_ab6901087a6b4184a59a6f830b73ee71",
              "IPY_MODEL_32c5f16320c841549e1ea6274d71a704"
            ],
            "layout": "IPY_MODEL_41e0e84eeb0b4840b646002747d89330"
          }
        },
        "d999db311bd84e728cd9459bc1c11ef1": {
          "model_module": "@jupyter-widgets/controls",
          "model_name": "HTMLModel",
          "model_module_version": "1.5.0",
          "state": {
            "_dom_classes": [],
            "_model_module": "@jupyter-widgets/controls",
            "_model_module_version": "1.5.0",
            "_model_name": "HTMLModel",
            "_view_count": null,
            "_view_module": "@jupyter-widgets/controls",
            "_view_module_version": "1.5.0",
            "_view_name": "HTMLView",
            "description": "",
            "description_tooltip": null,
            "layout": "IPY_MODEL_4491e7e30aa940e48b76cf7348ce414d",
            "placeholder": "​",
            "style": "IPY_MODEL_2d479501734b46b2b78b2fcd2eccae68",
            "value": "100%"
          }
        },
        "ab6901087a6b4184a59a6f830b73ee71": {
          "model_module": "@jupyter-widgets/controls",
          "model_name": "FloatProgressModel",
          "model_module_version": "1.5.0",
          "state": {
            "_dom_classes": [],
            "_model_module": "@jupyter-widgets/controls",
            "_model_module_version": "1.5.0",
            "_model_name": "FloatProgressModel",
            "_view_count": null,
            "_view_module": "@jupyter-widgets/controls",
            "_view_module_version": "1.5.0",
            "_view_name": "ProgressView",
            "bar_style": "success",
            "description": "",
            "description_tooltip": null,
            "layout": "IPY_MODEL_54316865579e4cd6a55099b1a553dd7e",
            "max": 330960,
            "min": 0,
            "orientation": "horizontal",
            "style": "IPY_MODEL_1b33f405c4414177a0c59adf5d208a46",
            "value": 330960
          }
        },
        "32c5f16320c841549e1ea6274d71a704": {
          "model_module": "@jupyter-widgets/controls",
          "model_name": "HTMLModel",
          "model_module_version": "1.5.0",
          "state": {
            "_dom_classes": [],
            "_model_module": "@jupyter-widgets/controls",
            "_model_module_version": "1.5.0",
            "_model_name": "HTMLModel",
            "_view_count": null,
            "_view_module": "@jupyter-widgets/controls",
            "_view_module_version": "1.5.0",
            "_view_name": "HTMLView",
            "description": "",
            "description_tooltip": null,
            "layout": "IPY_MODEL_0e1c29bb23fc4ef8b5198555cb8593a6",
            "placeholder": "​",
            "style": "IPY_MODEL_de86bbf0528c4de2a7477003b682e86a",
            "value": " 330960/330960 [00:00&lt;00:00, 654012.37it/s]"
          }
        },
        "41e0e84eeb0b4840b646002747d89330": {
          "model_module": "@jupyter-widgets/base",
          "model_name": "LayoutModel",
          "model_module_version": "1.2.0",
          "state": {
            "_model_module": "@jupyter-widgets/base",
            "_model_module_version": "1.2.0",
            "_model_name": "LayoutModel",
            "_view_count": null,
            "_view_module": "@jupyter-widgets/base",
            "_view_module_version": "1.2.0",
            "_view_name": "LayoutView",
            "align_content": null,
            "align_items": null,
            "align_self": null,
            "border": null,
            "bottom": null,
            "display": null,
            "flex": null,
            "flex_flow": null,
            "grid_area": null,
            "grid_auto_columns": null,
            "grid_auto_flow": null,
            "grid_auto_rows": null,
            "grid_column": null,
            "grid_gap": null,
            "grid_row": null,
            "grid_template_areas": null,
            "grid_template_columns": null,
            "grid_template_rows": null,
            "height": null,
            "justify_content": null,
            "justify_items": null,
            "left": null,
            "margin": null,
            "max_height": null,
            "max_width": null,
            "min_height": null,
            "min_width": null,
            "object_fit": null,
            "object_position": null,
            "order": null,
            "overflow": null,
            "overflow_x": null,
            "overflow_y": null,
            "padding": null,
            "right": null,
            "top": null,
            "visibility": null,
            "width": null
          }
        },
        "4491e7e30aa940e48b76cf7348ce414d": {
          "model_module": "@jupyter-widgets/base",
          "model_name": "LayoutModel",
          "model_module_version": "1.2.0",
          "state": {
            "_model_module": "@jupyter-widgets/base",
            "_model_module_version": "1.2.0",
            "_model_name": "LayoutModel",
            "_view_count": null,
            "_view_module": "@jupyter-widgets/base",
            "_view_module_version": "1.2.0",
            "_view_name": "LayoutView",
            "align_content": null,
            "align_items": null,
            "align_self": null,
            "border": null,
            "bottom": null,
            "display": null,
            "flex": null,
            "flex_flow": null,
            "grid_area": null,
            "grid_auto_columns": null,
            "grid_auto_flow": null,
            "grid_auto_rows": null,
            "grid_column": null,
            "grid_gap": null,
            "grid_row": null,
            "grid_template_areas": null,
            "grid_template_columns": null,
            "grid_template_rows": null,
            "height": null,
            "justify_content": null,
            "justify_items": null,
            "left": null,
            "margin": null,
            "max_height": null,
            "max_width": null,
            "min_height": null,
            "min_width": null,
            "object_fit": null,
            "object_position": null,
            "order": null,
            "overflow": null,
            "overflow_x": null,
            "overflow_y": null,
            "padding": null,
            "right": null,
            "top": null,
            "visibility": null,
            "width": null
          }
        },
        "2d479501734b46b2b78b2fcd2eccae68": {
          "model_module": "@jupyter-widgets/controls",
          "model_name": "DescriptionStyleModel",
          "model_module_version": "1.5.0",
          "state": {
            "_model_module": "@jupyter-widgets/controls",
            "_model_module_version": "1.5.0",
            "_model_name": "DescriptionStyleModel",
            "_view_count": null,
            "_view_module": "@jupyter-widgets/base",
            "_view_module_version": "1.2.0",
            "_view_name": "StyleView",
            "description_width": ""
          }
        },
        "54316865579e4cd6a55099b1a553dd7e": {
          "model_module": "@jupyter-widgets/base",
          "model_name": "LayoutModel",
          "model_module_version": "1.2.0",
          "state": {
            "_model_module": "@jupyter-widgets/base",
            "_model_module_version": "1.2.0",
            "_model_name": "LayoutModel",
            "_view_count": null,
            "_view_module": "@jupyter-widgets/base",
            "_view_module_version": "1.2.0",
            "_view_name": "LayoutView",
            "align_content": null,
            "align_items": null,
            "align_self": null,
            "border": null,
            "bottom": null,
            "display": null,
            "flex": null,
            "flex_flow": null,
            "grid_area": null,
            "grid_auto_columns": null,
            "grid_auto_flow": null,
            "grid_auto_rows": null,
            "grid_column": null,
            "grid_gap": null,
            "grid_row": null,
            "grid_template_areas": null,
            "grid_template_columns": null,
            "grid_template_rows": null,
            "height": null,
            "justify_content": null,
            "justify_items": null,
            "left": null,
            "margin": null,
            "max_height": null,
            "max_width": null,
            "min_height": null,
            "min_width": null,
            "object_fit": null,
            "object_position": null,
            "order": null,
            "overflow": null,
            "overflow_x": null,
            "overflow_y": null,
            "padding": null,
            "right": null,
            "top": null,
            "visibility": null,
            "width": null
          }
        },
        "1b33f405c4414177a0c59adf5d208a46": {
          "model_module": "@jupyter-widgets/controls",
          "model_name": "ProgressStyleModel",
          "model_module_version": "1.5.0",
          "state": {
            "_model_module": "@jupyter-widgets/controls",
            "_model_module_version": "1.5.0",
            "_model_name": "ProgressStyleModel",
            "_view_count": null,
            "_view_module": "@jupyter-widgets/base",
            "_view_module_version": "1.2.0",
            "_view_name": "StyleView",
            "bar_color": null,
            "description_width": ""
          }
        },
        "0e1c29bb23fc4ef8b5198555cb8593a6": {
          "model_module": "@jupyter-widgets/base",
          "model_name": "LayoutModel",
          "model_module_version": "1.2.0",
          "state": {
            "_model_module": "@jupyter-widgets/base",
            "_model_module_version": "1.2.0",
            "_model_name": "LayoutModel",
            "_view_count": null,
            "_view_module": "@jupyter-widgets/base",
            "_view_module_version": "1.2.0",
            "_view_name": "LayoutView",
            "align_content": null,
            "align_items": null,
            "align_self": null,
            "border": null,
            "bottom": null,
            "display": null,
            "flex": null,
            "flex_flow": null,
            "grid_area": null,
            "grid_auto_columns": null,
            "grid_auto_flow": null,
            "grid_auto_rows": null,
            "grid_column": null,
            "grid_gap": null,
            "grid_row": null,
            "grid_template_areas": null,
            "grid_template_columns": null,
            "grid_template_rows": null,
            "height": null,
            "justify_content": null,
            "justify_items": null,
            "left": null,
            "margin": null,
            "max_height": null,
            "max_width": null,
            "min_height": null,
            "min_width": null,
            "object_fit": null,
            "object_position": null,
            "order": null,
            "overflow": null,
            "overflow_x": null,
            "overflow_y": null,
            "padding": null,
            "right": null,
            "top": null,
            "visibility": null,
            "width": null
          }
        },
        "de86bbf0528c4de2a7477003b682e86a": {
          "model_module": "@jupyter-widgets/controls",
          "model_name": "DescriptionStyleModel",
          "model_module_version": "1.5.0",
          "state": {
            "_model_module": "@jupyter-widgets/controls",
            "_model_module_version": "1.5.0",
            "_model_name": "DescriptionStyleModel",
            "_view_count": null,
            "_view_module": "@jupyter-widgets/base",
            "_view_module_version": "1.2.0",
            "_view_name": "StyleView",
            "description_width": ""
          }
        },
        "7e377511742d4556b19684fb25143843": {
          "model_module": "@jupyter-widgets/controls",
          "model_name": "HBoxModel",
          "model_module_version": "1.5.0",
          "state": {
            "_dom_classes": [],
            "_model_module": "@jupyter-widgets/controls",
            "_model_module_version": "1.5.0",
            "_model_name": "HBoxModel",
            "_view_count": null,
            "_view_module": "@jupyter-widgets/controls",
            "_view_module_version": "1.5.0",
            "_view_name": "HBoxView",
            "box_style": "",
            "children": [
              "IPY_MODEL_5129d59a014549568d7a2fa62f15d86b",
              "IPY_MODEL_776b5c8b4ff84a419a1299b7b09d87ff",
              "IPY_MODEL_b511e373b6854848a9b05c255a71c602"
            ],
            "layout": "IPY_MODEL_e206d0f168464ae69c070371572abe48"
          }
        },
        "5129d59a014549568d7a2fa62f15d86b": {
          "model_module": "@jupyter-widgets/controls",
          "model_name": "HTMLModel",
          "model_module_version": "1.5.0",
          "state": {
            "_dom_classes": [],
            "_model_module": "@jupyter-widgets/controls",
            "_model_module_version": "1.5.0",
            "_model_name": "HTMLModel",
            "_view_count": null,
            "_view_module": "@jupyter-widgets/controls",
            "_view_module_version": "1.5.0",
            "_view_name": "HTMLView",
            "description": "",
            "description_tooltip": null,
            "layout": "IPY_MODEL_1b64df7eb90d4b45877849b8fe84ce3c",
            "placeholder": "​",
            "style": "IPY_MODEL_590201418efd4d46b51a5f59ecd77674",
            "value": "100%"
          }
        },
        "776b5c8b4ff84a419a1299b7b09d87ff": {
          "model_module": "@jupyter-widgets/controls",
          "model_name": "FloatProgressModel",
          "model_module_version": "1.5.0",
          "state": {
            "_dom_classes": [],
            "_model_module": "@jupyter-widgets/controls",
            "_model_module_version": "1.5.0",
            "_model_name": "FloatProgressModel",
            "_view_count": null,
            "_view_module": "@jupyter-widgets/controls",
            "_view_module_version": "1.5.0",
            "_view_name": "ProgressView",
            "bar_style": "success",
            "description": "",
            "description_tooltip": null,
            "layout": "IPY_MODEL_7a6452aef27f47399965f6263b62059f",
            "max": 979269282,
            "min": 0,
            "orientation": "horizontal",
            "style": "IPY_MODEL_6a3f542083444b3190b085045805ea71",
            "value": 979269282
          }
        },
        "b511e373b6854848a9b05c255a71c602": {
          "model_module": "@jupyter-widgets/controls",
          "model_name": "HTMLModel",
          "model_module_version": "1.5.0",
          "state": {
            "_dom_classes": [],
            "_model_module": "@jupyter-widgets/controls",
            "_model_module_version": "1.5.0",
            "_model_name": "HTMLModel",
            "_view_count": null,
            "_view_module": "@jupyter-widgets/controls",
            "_view_module_version": "1.5.0",
            "_view_name": "HTMLView",
            "description": "",
            "description_tooltip": null,
            "layout": "IPY_MODEL_dd224e571daa45d4a78282b314495a3e",
            "placeholder": "​",
            "style": "IPY_MODEL_daeec1f31fe74aeb916c7b5e2b57adc1",
            "value": " 979269282/979269282 [00:50&lt;00:00, 29824790.71it/s]"
          }
        },
        "e206d0f168464ae69c070371572abe48": {
          "model_module": "@jupyter-widgets/base",
          "model_name": "LayoutModel",
          "model_module_version": "1.2.0",
          "state": {
            "_model_module": "@jupyter-widgets/base",
            "_model_module_version": "1.2.0",
            "_model_name": "LayoutModel",
            "_view_count": null,
            "_view_module": "@jupyter-widgets/base",
            "_view_module_version": "1.2.0",
            "_view_name": "LayoutView",
            "align_content": null,
            "align_items": null,
            "align_self": null,
            "border": null,
            "bottom": null,
            "display": null,
            "flex": null,
            "flex_flow": null,
            "grid_area": null,
            "grid_auto_columns": null,
            "grid_auto_flow": null,
            "grid_auto_rows": null,
            "grid_column": null,
            "grid_gap": null,
            "grid_row": null,
            "grid_template_areas": null,
            "grid_template_columns": null,
            "grid_template_rows": null,
            "height": null,
            "justify_content": null,
            "justify_items": null,
            "left": null,
            "margin": null,
            "max_height": null,
            "max_width": null,
            "min_height": null,
            "min_width": null,
            "object_fit": null,
            "object_position": null,
            "order": null,
            "overflow": null,
            "overflow_x": null,
            "overflow_y": null,
            "padding": null,
            "right": null,
            "top": null,
            "visibility": null,
            "width": null
          }
        },
        "1b64df7eb90d4b45877849b8fe84ce3c": {
          "model_module": "@jupyter-widgets/base",
          "model_name": "LayoutModel",
          "model_module_version": "1.2.0",
          "state": {
            "_model_module": "@jupyter-widgets/base",
            "_model_module_version": "1.2.0",
            "_model_name": "LayoutModel",
            "_view_count": null,
            "_view_module": "@jupyter-widgets/base",
            "_view_module_version": "1.2.0",
            "_view_name": "LayoutView",
            "align_content": null,
            "align_items": null,
            "align_self": null,
            "border": null,
            "bottom": null,
            "display": null,
            "flex": null,
            "flex_flow": null,
            "grid_area": null,
            "grid_auto_columns": null,
            "grid_auto_flow": null,
            "grid_auto_rows": null,
            "grid_column": null,
            "grid_gap": null,
            "grid_row": null,
            "grid_template_areas": null,
            "grid_template_columns": null,
            "grid_template_rows": null,
            "height": null,
            "justify_content": null,
            "justify_items": null,
            "left": null,
            "margin": null,
            "max_height": null,
            "max_width": null,
            "min_height": null,
            "min_width": null,
            "object_fit": null,
            "object_position": null,
            "order": null,
            "overflow": null,
            "overflow_x": null,
            "overflow_y": null,
            "padding": null,
            "right": null,
            "top": null,
            "visibility": null,
            "width": null
          }
        },
        "590201418efd4d46b51a5f59ecd77674": {
          "model_module": "@jupyter-widgets/controls",
          "model_name": "DescriptionStyleModel",
          "model_module_version": "1.5.0",
          "state": {
            "_model_module": "@jupyter-widgets/controls",
            "_model_module_version": "1.5.0",
            "_model_name": "DescriptionStyleModel",
            "_view_count": null,
            "_view_module": "@jupyter-widgets/base",
            "_view_module_version": "1.2.0",
            "_view_name": "StyleView",
            "description_width": ""
          }
        },
        "7a6452aef27f47399965f6263b62059f": {
          "model_module": "@jupyter-widgets/base",
          "model_name": "LayoutModel",
          "model_module_version": "1.2.0",
          "state": {
            "_model_module": "@jupyter-widgets/base",
            "_model_module_version": "1.2.0",
            "_model_name": "LayoutModel",
            "_view_count": null,
            "_view_module": "@jupyter-widgets/base",
            "_view_module_version": "1.2.0",
            "_view_name": "LayoutView",
            "align_content": null,
            "align_items": null,
            "align_self": null,
            "border": null,
            "bottom": null,
            "display": null,
            "flex": null,
            "flex_flow": null,
            "grid_area": null,
            "grid_auto_columns": null,
            "grid_auto_flow": null,
            "grid_auto_rows": null,
            "grid_column": null,
            "grid_gap": null,
            "grid_row": null,
            "grid_template_areas": null,
            "grid_template_columns": null,
            "grid_template_rows": null,
            "height": null,
            "justify_content": null,
            "justify_items": null,
            "left": null,
            "margin": null,
            "max_height": null,
            "max_width": null,
            "min_height": null,
            "min_width": null,
            "object_fit": null,
            "object_position": null,
            "order": null,
            "overflow": null,
            "overflow_x": null,
            "overflow_y": null,
            "padding": null,
            "right": null,
            "top": null,
            "visibility": null,
            "width": null
          }
        },
        "6a3f542083444b3190b085045805ea71": {
          "model_module": "@jupyter-widgets/controls",
          "model_name": "ProgressStyleModel",
          "model_module_version": "1.5.0",
          "state": {
            "_model_module": "@jupyter-widgets/controls",
            "_model_module_version": "1.5.0",
            "_model_name": "ProgressStyleModel",
            "_view_count": null,
            "_view_module": "@jupyter-widgets/base",
            "_view_module_version": "1.2.0",
            "_view_name": "StyleView",
            "bar_color": null,
            "description_width": ""
          }
        },
        "dd224e571daa45d4a78282b314495a3e": {
          "model_module": "@jupyter-widgets/base",
          "model_name": "LayoutModel",
          "model_module_version": "1.2.0",
          "state": {
            "_model_module": "@jupyter-widgets/base",
            "_model_module_version": "1.2.0",
            "_model_name": "LayoutModel",
            "_view_count": null,
            "_view_module": "@jupyter-widgets/base",
            "_view_module_version": "1.2.0",
            "_view_name": "LayoutView",
            "align_content": null,
            "align_items": null,
            "align_self": null,
            "border": null,
            "bottom": null,
            "display": null,
            "flex": null,
            "flex_flow": null,
            "grid_area": null,
            "grid_auto_columns": null,
            "grid_auto_flow": null,
            "grid_auto_rows": null,
            "grid_column": null,
            "grid_gap": null,
            "grid_row": null,
            "grid_template_areas": null,
            "grid_template_columns": null,
            "grid_template_rows": null,
            "height": null,
            "justify_content": null,
            "justify_items": null,
            "left": null,
            "margin": null,
            "max_height": null,
            "max_width": null,
            "min_height": null,
            "min_width": null,
            "object_fit": null,
            "object_position": null,
            "order": null,
            "overflow": null,
            "overflow_x": null,
            "overflow_y": null,
            "padding": null,
            "right": null,
            "top": null,
            "visibility": null,
            "width": null
          }
        },
        "daeec1f31fe74aeb916c7b5e2b57adc1": {
          "model_module": "@jupyter-widgets/controls",
          "model_name": "DescriptionStyleModel",
          "model_module_version": "1.5.0",
          "state": {
            "_model_module": "@jupyter-widgets/controls",
            "_model_module_version": "1.5.0",
            "_model_name": "DescriptionStyleModel",
            "_view_count": null,
            "_view_module": "@jupyter-widgets/base",
            "_view_module_version": "1.2.0",
            "_view_name": "StyleView",
            "description_width": ""
          }
        },
        "a249b0d310cc43bd8036be8ee82d73ca": {
          "model_module": "@jupyter-widgets/controls",
          "model_name": "HBoxModel",
          "model_module_version": "1.5.0",
          "state": {
            "_dom_classes": [],
            "_model_module": "@jupyter-widgets/controls",
            "_model_module_version": "1.5.0",
            "_model_name": "HBoxModel",
            "_view_count": null,
            "_view_module": "@jupyter-widgets/controls",
            "_view_module_version": "1.5.0",
            "_view_name": "HBoxView",
            "box_style": "",
            "children": [
              "IPY_MODEL_69fa19fbdbd9426ca889bedb4eddfda2",
              "IPY_MODEL_cecbb5eb1e594ff481ef034f76f96fe5",
              "IPY_MODEL_fe6c28bc90744afdb64be568fbea95d2"
            ],
            "layout": "IPY_MODEL_84ecda2968ba4aa8a23421e9571a13a3"
          }
        },
        "69fa19fbdbd9426ca889bedb4eddfda2": {
          "model_module": "@jupyter-widgets/controls",
          "model_name": "HTMLModel",
          "model_module_version": "1.5.0",
          "state": {
            "_dom_classes": [],
            "_model_module": "@jupyter-widgets/controls",
            "_model_module_version": "1.5.0",
            "_model_name": "HTMLModel",
            "_view_count": null,
            "_view_module": "@jupyter-widgets/controls",
            "_view_module_version": "1.5.0",
            "_view_name": "HTMLView",
            "description": "",
            "description_tooltip": null,
            "layout": "IPY_MODEL_095f258603d446518a477c652c18723d",
            "placeholder": "​",
            "style": "IPY_MODEL_aaa9ef17e0744b2bb06dd72400ef803b",
            "value": "100%"
          }
        },
        "cecbb5eb1e594ff481ef034f76f96fe5": {
          "model_module": "@jupyter-widgets/controls",
          "model_name": "FloatProgressModel",
          "model_module_version": "1.5.0",
          "state": {
            "_dom_classes": [],
            "_model_module": "@jupyter-widgets/controls",
            "_model_module_version": "1.5.0",
            "_model_name": "FloatProgressModel",
            "_view_count": null,
            "_view_module": "@jupyter-widgets/controls",
            "_view_module_version": "1.5.0",
            "_view_name": "ProgressView",
            "bar_style": "success",
            "description": "",
            "description_tooltip": null,
            "layout": "IPY_MODEL_47af0bb437dc475cbe4eee13bad8c47a",
            "max": 977350468,
            "min": 0,
            "orientation": "horizontal",
            "style": "IPY_MODEL_9072f60df1cf4b6ca11199d8dc385154",
            "value": 977350468
          }
        },
        "fe6c28bc90744afdb64be568fbea95d2": {
          "model_module": "@jupyter-widgets/controls",
          "model_name": "HTMLModel",
          "model_module_version": "1.5.0",
          "state": {
            "_dom_classes": [],
            "_model_module": "@jupyter-widgets/controls",
            "_model_module_version": "1.5.0",
            "_model_name": "HTMLModel",
            "_view_count": null,
            "_view_module": "@jupyter-widgets/controls",
            "_view_module_version": "1.5.0",
            "_view_name": "HTMLView",
            "description": "",
            "description_tooltip": null,
            "layout": "IPY_MODEL_1d9412f11a2b47e3904c38894166ecf0",
            "placeholder": "​",
            "style": "IPY_MODEL_b29ef539b72a41b8a4d627558fae1510",
            "value": " 977350468/977350468 [00:18&lt;00:00, 61512261.23it/s]"
          }
        },
        "84ecda2968ba4aa8a23421e9571a13a3": {
          "model_module": "@jupyter-widgets/base",
          "model_name": "LayoutModel",
          "model_module_version": "1.2.0",
          "state": {
            "_model_module": "@jupyter-widgets/base",
            "_model_module_version": "1.2.0",
            "_model_name": "LayoutModel",
            "_view_count": null,
            "_view_module": "@jupyter-widgets/base",
            "_view_module_version": "1.2.0",
            "_view_name": "LayoutView",
            "align_content": null,
            "align_items": null,
            "align_self": null,
            "border": null,
            "bottom": null,
            "display": null,
            "flex": null,
            "flex_flow": null,
            "grid_area": null,
            "grid_auto_columns": null,
            "grid_auto_flow": null,
            "grid_auto_rows": null,
            "grid_column": null,
            "grid_gap": null,
            "grid_row": null,
            "grid_template_areas": null,
            "grid_template_columns": null,
            "grid_template_rows": null,
            "height": null,
            "justify_content": null,
            "justify_items": null,
            "left": null,
            "margin": null,
            "max_height": null,
            "max_width": null,
            "min_height": null,
            "min_width": null,
            "object_fit": null,
            "object_position": null,
            "order": null,
            "overflow": null,
            "overflow_x": null,
            "overflow_y": null,
            "padding": null,
            "right": null,
            "top": null,
            "visibility": null,
            "width": null
          }
        },
        "095f258603d446518a477c652c18723d": {
          "model_module": "@jupyter-widgets/base",
          "model_name": "LayoutModel",
          "model_module_version": "1.2.0",
          "state": {
            "_model_module": "@jupyter-widgets/base",
            "_model_module_version": "1.2.0",
            "_model_name": "LayoutModel",
            "_view_count": null,
            "_view_module": "@jupyter-widgets/base",
            "_view_module_version": "1.2.0",
            "_view_name": "LayoutView",
            "align_content": null,
            "align_items": null,
            "align_self": null,
            "border": null,
            "bottom": null,
            "display": null,
            "flex": null,
            "flex_flow": null,
            "grid_area": null,
            "grid_auto_columns": null,
            "grid_auto_flow": null,
            "grid_auto_rows": null,
            "grid_column": null,
            "grid_gap": null,
            "grid_row": null,
            "grid_template_areas": null,
            "grid_template_columns": null,
            "grid_template_rows": null,
            "height": null,
            "justify_content": null,
            "justify_items": null,
            "left": null,
            "margin": null,
            "max_height": null,
            "max_width": null,
            "min_height": null,
            "min_width": null,
            "object_fit": null,
            "object_position": null,
            "order": null,
            "overflow": null,
            "overflow_x": null,
            "overflow_y": null,
            "padding": null,
            "right": null,
            "top": null,
            "visibility": null,
            "width": null
          }
        },
        "aaa9ef17e0744b2bb06dd72400ef803b": {
          "model_module": "@jupyter-widgets/controls",
          "model_name": "DescriptionStyleModel",
          "model_module_version": "1.5.0",
          "state": {
            "_model_module": "@jupyter-widgets/controls",
            "_model_module_version": "1.5.0",
            "_model_name": "DescriptionStyleModel",
            "_view_count": null,
            "_view_module": "@jupyter-widgets/base",
            "_view_module_version": "1.2.0",
            "_view_name": "StyleView",
            "description_width": ""
          }
        },
        "47af0bb437dc475cbe4eee13bad8c47a": {
          "model_module": "@jupyter-widgets/base",
          "model_name": "LayoutModel",
          "model_module_version": "1.2.0",
          "state": {
            "_model_module": "@jupyter-widgets/base",
            "_model_module_version": "1.2.0",
            "_model_name": "LayoutModel",
            "_view_count": null,
            "_view_module": "@jupyter-widgets/base",
            "_view_module_version": "1.2.0",
            "_view_name": "LayoutView",
            "align_content": null,
            "align_items": null,
            "align_self": null,
            "border": null,
            "bottom": null,
            "display": null,
            "flex": null,
            "flex_flow": null,
            "grid_area": null,
            "grid_auto_columns": null,
            "grid_auto_flow": null,
            "grid_auto_rows": null,
            "grid_column": null,
            "grid_gap": null,
            "grid_row": null,
            "grid_template_areas": null,
            "grid_template_columns": null,
            "grid_template_rows": null,
            "height": null,
            "justify_content": null,
            "justify_items": null,
            "left": null,
            "margin": null,
            "max_height": null,
            "max_width": null,
            "min_height": null,
            "min_width": null,
            "object_fit": null,
            "object_position": null,
            "order": null,
            "overflow": null,
            "overflow_x": null,
            "overflow_y": null,
            "padding": null,
            "right": null,
            "top": null,
            "visibility": null,
            "width": null
          }
        },
        "9072f60df1cf4b6ca11199d8dc385154": {
          "model_module": "@jupyter-widgets/controls",
          "model_name": "ProgressStyleModel",
          "model_module_version": "1.5.0",
          "state": {
            "_model_module": "@jupyter-widgets/controls",
            "_model_module_version": "1.5.0",
            "_model_name": "ProgressStyleModel",
            "_view_count": null,
            "_view_module": "@jupyter-widgets/base",
            "_view_module_version": "1.2.0",
            "_view_name": "StyleView",
            "bar_color": null,
            "description_width": ""
          }
        },
        "1d9412f11a2b47e3904c38894166ecf0": {
          "model_module": "@jupyter-widgets/base",
          "model_name": "LayoutModel",
          "model_module_version": "1.2.0",
          "state": {
            "_model_module": "@jupyter-widgets/base",
            "_model_module_version": "1.2.0",
            "_model_name": "LayoutModel",
            "_view_count": null,
            "_view_module": "@jupyter-widgets/base",
            "_view_module_version": "1.2.0",
            "_view_name": "LayoutView",
            "align_content": null,
            "align_items": null,
            "align_self": null,
            "border": null,
            "bottom": null,
            "display": null,
            "flex": null,
            "flex_flow": null,
            "grid_area": null,
            "grid_auto_columns": null,
            "grid_auto_flow": null,
            "grid_auto_rows": null,
            "grid_column": null,
            "grid_gap": null,
            "grid_row": null,
            "grid_template_areas": null,
            "grid_template_columns": null,
            "grid_template_rows": null,
            "height": null,
            "justify_content": null,
            "justify_items": null,
            "left": null,
            "margin": null,
            "max_height": null,
            "max_width": null,
            "min_height": null,
            "min_width": null,
            "object_fit": null,
            "object_position": null,
            "order": null,
            "overflow": null,
            "overflow_x": null,
            "overflow_y": null,
            "padding": null,
            "right": null,
            "top": null,
            "visibility": null,
            "width": null
          }
        },
        "b29ef539b72a41b8a4d627558fae1510": {
          "model_module": "@jupyter-widgets/controls",
          "model_name": "DescriptionStyleModel",
          "model_module_version": "1.5.0",
          "state": {
            "_model_module": "@jupyter-widgets/controls",
            "_model_module_version": "1.5.0",
            "_model_name": "DescriptionStyleModel",
            "_view_count": null,
            "_view_module": "@jupyter-widgets/base",
            "_view_module_version": "1.2.0",
            "_view_name": "StyleView",
            "description_width": ""
          }
        },
        "09b29b51eb3549f8a9b6cced5472ae2a": {
          "model_module": "@jupyter-widgets/controls",
          "model_name": "HBoxModel",
          "model_module_version": "1.5.0",
          "state": {
            "_dom_classes": [],
            "_model_module": "@jupyter-widgets/controls",
            "_model_module_version": "1.5.0",
            "_model_name": "HBoxModel",
            "_view_count": null,
            "_view_module": "@jupyter-widgets/controls",
            "_view_module_version": "1.5.0",
            "_view_name": "HBoxView",
            "box_style": "",
            "children": [
              "IPY_MODEL_84c7a00192cd4e439ae9d60e9f816aa0",
              "IPY_MODEL_9ccc3909921348918aec32e0d7e02b2d",
              "IPY_MODEL_b9be62cc9c034fbf91460cd0068560ba"
            ],
            "layout": "IPY_MODEL_a881a3009d8e47f9af0f1ed2a6e17f9b"
          }
        },
        "84c7a00192cd4e439ae9d60e9f816aa0": {
          "model_module": "@jupyter-widgets/controls",
          "model_name": "HTMLModel",
          "model_module_version": "1.5.0",
          "state": {
            "_dom_classes": [],
            "_model_module": "@jupyter-widgets/controls",
            "_model_module_version": "1.5.0",
            "_model_name": "HTMLModel",
            "_view_count": null,
            "_view_module": "@jupyter-widgets/controls",
            "_view_module_version": "1.5.0",
            "_view_name": "HTMLView",
            "description": "",
            "description_tooltip": null,
            "layout": "IPY_MODEL_81efe2c2d0104222bd67f0370a979609",
            "placeholder": "​",
            "style": "IPY_MODEL_77bb13924085499da7044a58e549ba98",
            "value": "100%"
          }
        },
        "9ccc3909921348918aec32e0d7e02b2d": {
          "model_module": "@jupyter-widgets/controls",
          "model_name": "FloatProgressModel",
          "model_module_version": "1.5.0",
          "state": {
            "_dom_classes": [],
            "_model_module": "@jupyter-widgets/controls",
            "_model_module_version": "1.5.0",
            "_model_name": "FloatProgressModel",
            "_view_count": null,
            "_view_module": "@jupyter-widgets/controls",
            "_view_module_version": "1.5.0",
            "_view_name": "ProgressView",
            "bar_style": "success",
            "description": "",
            "description_tooltip": null,
            "layout": "IPY_MODEL_59a425086798435dbc95c27061f470cc",
            "max": 185758,
            "min": 0,
            "orientation": "horizontal",
            "style": "IPY_MODEL_733a1dc9eff54018808627012b3dd516",
            "value": 185758
          }
        },
        "b9be62cc9c034fbf91460cd0068560ba": {
          "model_module": "@jupyter-widgets/controls",
          "model_name": "HTMLModel",
          "model_module_version": "1.5.0",
          "state": {
            "_dom_classes": [],
            "_model_module": "@jupyter-widgets/controls",
            "_model_module_version": "1.5.0",
            "_model_name": "HTMLModel",
            "_view_count": null,
            "_view_module": "@jupyter-widgets/controls",
            "_view_module_version": "1.5.0",
            "_view_name": "HTMLView",
            "description": "",
            "description_tooltip": null,
            "layout": "IPY_MODEL_72a53ed33a4a4b9eb59f2180a42c034d",
            "placeholder": "​",
            "style": "IPY_MODEL_24f39b421253439cb53b639540c5fd63",
            "value": " 185758/185758 [00:00&lt;00:00, 504416.39it/s]"
          }
        },
        "a881a3009d8e47f9af0f1ed2a6e17f9b": {
          "model_module": "@jupyter-widgets/base",
          "model_name": "LayoutModel",
          "model_module_version": "1.2.0",
          "state": {
            "_model_module": "@jupyter-widgets/base",
            "_model_module_version": "1.2.0",
            "_model_name": "LayoutModel",
            "_view_count": null,
            "_view_module": "@jupyter-widgets/base",
            "_view_module_version": "1.2.0",
            "_view_name": "LayoutView",
            "align_content": null,
            "align_items": null,
            "align_self": null,
            "border": null,
            "bottom": null,
            "display": null,
            "flex": null,
            "flex_flow": null,
            "grid_area": null,
            "grid_auto_columns": null,
            "grid_auto_flow": null,
            "grid_auto_rows": null,
            "grid_column": null,
            "grid_gap": null,
            "grid_row": null,
            "grid_template_areas": null,
            "grid_template_columns": null,
            "grid_template_rows": null,
            "height": null,
            "justify_content": null,
            "justify_items": null,
            "left": null,
            "margin": null,
            "max_height": null,
            "max_width": null,
            "min_height": null,
            "min_width": null,
            "object_fit": null,
            "object_position": null,
            "order": null,
            "overflow": null,
            "overflow_x": null,
            "overflow_y": null,
            "padding": null,
            "right": null,
            "top": null,
            "visibility": null,
            "width": null
          }
        },
        "81efe2c2d0104222bd67f0370a979609": {
          "model_module": "@jupyter-widgets/base",
          "model_name": "LayoutModel",
          "model_module_version": "1.2.0",
          "state": {
            "_model_module": "@jupyter-widgets/base",
            "_model_module_version": "1.2.0",
            "_model_name": "LayoutModel",
            "_view_count": null,
            "_view_module": "@jupyter-widgets/base",
            "_view_module_version": "1.2.0",
            "_view_name": "LayoutView",
            "align_content": null,
            "align_items": null,
            "align_self": null,
            "border": null,
            "bottom": null,
            "display": null,
            "flex": null,
            "flex_flow": null,
            "grid_area": null,
            "grid_auto_columns": null,
            "grid_auto_flow": null,
            "grid_auto_rows": null,
            "grid_column": null,
            "grid_gap": null,
            "grid_row": null,
            "grid_template_areas": null,
            "grid_template_columns": null,
            "grid_template_rows": null,
            "height": null,
            "justify_content": null,
            "justify_items": null,
            "left": null,
            "margin": null,
            "max_height": null,
            "max_width": null,
            "min_height": null,
            "min_width": null,
            "object_fit": null,
            "object_position": null,
            "order": null,
            "overflow": null,
            "overflow_x": null,
            "overflow_y": null,
            "padding": null,
            "right": null,
            "top": null,
            "visibility": null,
            "width": null
          }
        },
        "77bb13924085499da7044a58e549ba98": {
          "model_module": "@jupyter-widgets/controls",
          "model_name": "DescriptionStyleModel",
          "model_module_version": "1.5.0",
          "state": {
            "_model_module": "@jupyter-widgets/controls",
            "_model_module_version": "1.5.0",
            "_model_name": "DescriptionStyleModel",
            "_view_count": null,
            "_view_module": "@jupyter-widgets/base",
            "_view_module_version": "1.2.0",
            "_view_name": "StyleView",
            "description_width": ""
          }
        },
        "59a425086798435dbc95c27061f470cc": {
          "model_module": "@jupyter-widgets/base",
          "model_name": "LayoutModel",
          "model_module_version": "1.2.0",
          "state": {
            "_model_module": "@jupyter-widgets/base",
            "_model_module_version": "1.2.0",
            "_model_name": "LayoutModel",
            "_view_count": null,
            "_view_module": "@jupyter-widgets/base",
            "_view_module_version": "1.2.0",
            "_view_name": "LayoutView",
            "align_content": null,
            "align_items": null,
            "align_self": null,
            "border": null,
            "bottom": null,
            "display": null,
            "flex": null,
            "flex_flow": null,
            "grid_area": null,
            "grid_auto_columns": null,
            "grid_auto_flow": null,
            "grid_auto_rows": null,
            "grid_column": null,
            "grid_gap": null,
            "grid_row": null,
            "grid_template_areas": null,
            "grid_template_columns": null,
            "grid_template_rows": null,
            "height": null,
            "justify_content": null,
            "justify_items": null,
            "left": null,
            "margin": null,
            "max_height": null,
            "max_width": null,
            "min_height": null,
            "min_width": null,
            "object_fit": null,
            "object_position": null,
            "order": null,
            "overflow": null,
            "overflow_x": null,
            "overflow_y": null,
            "padding": null,
            "right": null,
            "top": null,
            "visibility": null,
            "width": null
          }
        },
        "733a1dc9eff54018808627012b3dd516": {
          "model_module": "@jupyter-widgets/controls",
          "model_name": "ProgressStyleModel",
          "model_module_version": "1.5.0",
          "state": {
            "_model_module": "@jupyter-widgets/controls",
            "_model_module_version": "1.5.0",
            "_model_name": "ProgressStyleModel",
            "_view_count": null,
            "_view_module": "@jupyter-widgets/base",
            "_view_module_version": "1.2.0",
            "_view_name": "StyleView",
            "bar_color": null,
            "description_width": ""
          }
        },
        "72a53ed33a4a4b9eb59f2180a42c034d": {
          "model_module": "@jupyter-widgets/base",
          "model_name": "LayoutModel",
          "model_module_version": "1.2.0",
          "state": {
            "_model_module": "@jupyter-widgets/base",
            "_model_module_version": "1.2.0",
            "_model_name": "LayoutModel",
            "_view_count": null,
            "_view_module": "@jupyter-widgets/base",
            "_view_module_version": "1.2.0",
            "_view_name": "LayoutView",
            "align_content": null,
            "align_items": null,
            "align_self": null,
            "border": null,
            "bottom": null,
            "display": null,
            "flex": null,
            "flex_flow": null,
            "grid_area": null,
            "grid_auto_columns": null,
            "grid_auto_flow": null,
            "grid_auto_rows": null,
            "grid_column": null,
            "grid_gap": null,
            "grid_row": null,
            "grid_template_areas": null,
            "grid_template_columns": null,
            "grid_template_rows": null,
            "height": null,
            "justify_content": null,
            "justify_items": null,
            "left": null,
            "margin": null,
            "max_height": null,
            "max_width": null,
            "min_height": null,
            "min_width": null,
            "object_fit": null,
            "object_position": null,
            "order": null,
            "overflow": null,
            "overflow_x": null,
            "overflow_y": null,
            "padding": null,
            "right": null,
            "top": null,
            "visibility": null,
            "width": null
          }
        },
        "24f39b421253439cb53b639540c5fd63": {
          "model_module": "@jupyter-widgets/controls",
          "model_name": "DescriptionStyleModel",
          "model_module_version": "1.5.0",
          "state": {
            "_model_module": "@jupyter-widgets/controls",
            "_model_module_version": "1.5.0",
            "_model_name": "DescriptionStyleModel",
            "_view_count": null,
            "_view_module": "@jupyter-widgets/base",
            "_view_module_version": "1.2.0",
            "_view_name": "StyleView",
            "description_width": ""
          }
        }
      }
    }
  },
  "cells": [
    {
      "cell_type": "markdown",
      "metadata": {
        "id": "view-in-github",
        "colab_type": "text"
      },
      "source": [
        "<a href=\"https://colab.research.google.com/github/times2049/Diffusion-Models-from-scratch-in-Pytorch-for-edu/blob/main/Diffusion_Models_from_scratch_in_Pytorch.ipynb\" target=\"_parent\"><img src=\"https://colab.research.google.com/assets/colab-badge.svg\" alt=\"Open In Colab\"/></a>"
      ]
    },
    {
      "cell_type": "markdown",
      "source": [
        "#cross-attention 나중에"
      ],
      "metadata": {
        "id": "dk__jFk_K6U3"
      }
    },
    {
      "cell_type": "code",
      "source": [
        "class CrossAttention(nn.Module):\n",
        "    def __init__(self, dim_eps, dim_tau, heads=8, dim_head=64, dropout=0.,i=None):\n",
        "        super().__init__()\n",
        "        dim = dim_head * heads\n",
        "        W = lambda d: nn.Linear(d, dim, bias=False)\n",
        "        self.W_q, self.W_k, self.W_v = map(W, (dim_eps, dim_tau, dim_tau))\n",
        "        #???????이건 왜 없는데\n",
        "        self.W_out = nn.Linear(dim, dim_eps)\n",
        "        self.heads = heads\n",
        "        self.dim_head = dim_head \n",
        "        self.scale = dim_head ** -0.5\n",
        "        \n",
        "    def forward(self, phi_i_zt, tau_theta_y):\n",
        "        # phi_i_zt (B, N, dim_eps)\n",
        "        # tau_theta_y (B, M, dim_tau) ;context;  from a domain specific encoder that projects y\n",
        "        # W_q: (B, dim_eps, dim)    \n",
        "        #W_k, W_v:  (B, dim_tau, dim)\n",
        "        q, k, v = self.W_q(phi_i_zt), self.W_k(tau_theta_y), self.W_v(tau_theta_y)\n",
        "        # q: (B, N, dim),   k, v: (B, M, dim)\n",
        "        # (h d) = dim\n",
        "        h = self.heads\n",
        "        q, k, v = map(lambda t: rearrange(t, 'b n (h d) -> (b h) n d', h=h), (q, k, v))\n",
        "        # q: (B*h, N, dim/h),   k, v: (B*h, M, dim/h)\n",
        "\n",
        "        similarity = einsum('b i d, b j d -> b i j', q, k) * self.scale\n",
        "        # similarity: (B*h, N, M)\n",
        "\n",
        "        # attention, what we cannot get enough of\n",
        "        attn_dist = similarity.softmax(dim=-1)\n",
        "        # attn_dist: (B*h, N, M), v (B*h, M, d)\n",
        "        out = einsum('b i j, b j d -> b i d', attn_dist, v) \n",
        "        # out: (B*h, N, d)\n",
        "        out = rearrange(out, '(b h) n d -> b n (h d)', h=h)\n",
        "        # out: (B, N, h*d)\n",
        "\n",
        "        return self.W_out(out)"
      ],
      "metadata": {
        "id": "nYxpPRptK6fa"
      },
      "execution_count": null,
      "outputs": []
    },
    {
      "cell_type": "code",
      "source": [],
      "metadata": {
        "id": "JtgFYW9yk_8R"
      },
      "execution_count": null,
      "outputs": []
    },
    {
      "cell_type": "code",
      "source": [
        "\"\"\"\n",
        "def make_variance_schedule(how_to=\"cosine\", T, cos_s=??):\n",
        "    if how_to == \"cosine\":\n",
        "        timesteps = (arange(T + 1) / T + cos_s) #arange: (0,....,T)\n",
        "        alphas = timesteps / (1 + cos_s) * pi / 2\n",
        "        alphas = cos(alphas).pow(2)\n",
        "        alphas = alphas / alphas[0]\n",
        "        betas = 1 - alphas[1:] / alphas[:-1]\n",
        "        betas = clip(betas, a_min=0, a_max=0.999) # a_max?\n",
        "    return betas\n",
        "        \"\"\""
      ],
      "metadata": {
        "id": "J7jGDQMTlyC1"
      },
      "execution_count": null,
      "outputs": []
    },
    {
      "cell_type": "markdown",
      "source": [
        "# forward diffusion process"
      ],
      "metadata": {
        "id": "6At-gto7cYT7"
      }
    },
    {
      "cell_type": "markdown",
      "source": [
        "#beta schedule"
      ],
      "metadata": {
        "id": "r2ilAMNkKh-Y"
      }
    },
    {
      "cell_type": "code",
      "execution_count": 3,
      "metadata": {
        "id": "g1RjBff1J1TC"
      },
      "outputs": [],
      "source": [
        "from torch import linspace\n",
        "def make_beta_schedule(how_to, T, start=1e-4, end=2e-2): #todo 다시보자\n",
        "  \"\"\"\n",
        "  beta_t = a variance of Gaussin noise in t step\n",
        "  설명, 인자도 설명\n",
        "  어키어키\n",
        "  \"\"\"\n",
        "  if how_to == \"linear\":\n",
        "    betas = (linspace(start, end, T)) #(1e-4, ... , 2e-2)\n",
        "  return betas"
      ]
    },
    {
      "cell_type": "code",
      "source": [
        "IMG_SIZE, BATCH_SIZE = 64, 128"
      ],
      "metadata": {
        "id": "OftgENfyqVA0"
      },
      "execution_count": 4,
      "outputs": []
    },
    {
      "cell_type": "code",
      "source": [
        "T = 100 # Total steps\n",
        "betas = make_beta_schedule('linear', T)"
      ],
      "metadata": {
        "id": "-xJMCFrxqLej"
      },
      "execution_count": 5,
      "outputs": []
    },
    {
      "cell_type": "code",
      "source": [
        "def get_index_from_list(vals, t, x_shape): #todo이거 왜있는건데? 저장해놓든가\n",
        "    \"\"\" \n",
        "    Returns a specific index t of a passed list of values vals\n",
        "    while considering the batch dimension.\n",
        "    \"\"\"\n",
        "    batch_size = t.shape[0]\n",
        "    out = vals.gather(-1, t.cpu())\n",
        "    return out.reshape(batch_size, *((1,) * (len(x_shape) - 1))).to(t.device)"
      ],
      "metadata": {
        "id": "_OT6mqJdgHNU"
      },
      "execution_count": 6,
      "outputs": []
    },
    {
      "cell_type": "code",
      "source": [
        "from torch import cumprod, sqrt, randn_like\n",
        "\n",
        "# Pre-calculate different terms for closed form\n",
        "alphas = 1. - betas\n",
        "alphas_cumprod = cumprod(alphas, axis=0)\n",
        "# calculations for diffusion q(x_t | x_{t-1}) and others\n",
        "coef_X0, coef_noise = sqrt(alphas_cumprod), sqrt(1 - alphas_cumprod) \n",
        "X0_shape = X0.shape\n"
      ],
      "metadata": {
        "id": "9uFw2J2XcXYt"
      },
      "execution_count": 23,
      "outputs": []
    },
    {
      "cell_type": "code",
      "source": [
        "def diffuse(X0, t):\n",
        "  noise = randn_like(X0)# N(0,I)\n",
        "  coef_X0_t = get_index_from_list(coef_X0, t,X0.shape)#todo shape에서 반복계산 좀 없게\n",
        "  coef_noise_t = get_index_from_list(coef_noise, t, X0.shape)\n",
        "  Xt = coef_X0_t * X0 + coef_noise_t * noise #reparameterization trick\n",
        "  return Xt, noise"
      ],
      "metadata": {
        "id": "Ibs2-LZSceV8"
      },
      "execution_count": 10,
      "outputs": []
    },
    {
      "cell_type": "code",
      "source": [
        "from torch.utils.data import DataLoader, ConcatDataset\n",
        "from torchvision.datasets import StanfordCars\n",
        "import numpy as np\n",
        "from torchvision.transforms import Resize, RandomHorizontalFlip \\\n",
        "                                    ,ToTensor, Lambda, Compose\n",
        "\n",
        "IMG_SIZE = 64\n",
        "BATCH_SIZE = 128\n",
        "\n",
        "def load_dataset(): #todo transfrom 함수 따로\n",
        "    data_transforms = [\n",
        "                        Resize((IMG_SIZE, IMG_SIZE)), #todo:하나만 넣어도 될텐데? 확인\n",
        "                        RandomHorizontalFlip(),\n",
        "                        ToTensor(), # Scales data into [0,1] \n",
        "                        Lambda(lambda t: (t * 2) - 1) # Scale between [-1, 1] \n",
        "                    ]\n",
        "    data_transform = Compose(data_transforms)\n",
        "     #todo 데이터 바꾸기\n",
        "    train = StanfordCars(root=\".\", download=True, \n",
        "                                         transform=data_transform)\n",
        "\n",
        "    test = StanfordCars(root=\".\", download=True, \n",
        "                                         transform=data_transform, split='test')\n",
        "    return ConcatDataset([train, test])\n",
        "\n"
      ],
      "metadata": {
        "id": "YZHPlnngnzio"
      },
      "execution_count": 15,
      "outputs": []
    },
    {
      "cell_type": "code",
      "source": [
        "datasets = load_dataset()\n",
        "dataloader = DataLoader(datasets, batch_size=BATCH_SIZE, shuffle=True, drop_last=True)"
      ],
      "metadata": {
        "colab": {
          "base_uri": "https://localhost:8080/",
          "height": 301,
          "referenced_widgets": [
            "082ee12ad10e4360bdf67ffe8d12153e",
            "d999db311bd84e728cd9459bc1c11ef1",
            "ab6901087a6b4184a59a6f830b73ee71",
            "32c5f16320c841549e1ea6274d71a704",
            "41e0e84eeb0b4840b646002747d89330",
            "4491e7e30aa940e48b76cf7348ce414d",
            "2d479501734b46b2b78b2fcd2eccae68",
            "54316865579e4cd6a55099b1a553dd7e",
            "1b33f405c4414177a0c59adf5d208a46",
            "0e1c29bb23fc4ef8b5198555cb8593a6",
            "de86bbf0528c4de2a7477003b682e86a",
            "7e377511742d4556b19684fb25143843",
            "5129d59a014549568d7a2fa62f15d86b",
            "776b5c8b4ff84a419a1299b7b09d87ff",
            "b511e373b6854848a9b05c255a71c602",
            "e206d0f168464ae69c070371572abe48",
            "1b64df7eb90d4b45877849b8fe84ce3c",
            "590201418efd4d46b51a5f59ecd77674",
            "7a6452aef27f47399965f6263b62059f",
            "6a3f542083444b3190b085045805ea71",
            "dd224e571daa45d4a78282b314495a3e",
            "daeec1f31fe74aeb916c7b5e2b57adc1",
            "a249b0d310cc43bd8036be8ee82d73ca",
            "69fa19fbdbd9426ca889bedb4eddfda2",
            "cecbb5eb1e594ff481ef034f76f96fe5",
            "fe6c28bc90744afdb64be568fbea95d2",
            "84ecda2968ba4aa8a23421e9571a13a3",
            "095f258603d446518a477c652c18723d",
            "aaa9ef17e0744b2bb06dd72400ef803b",
            "47af0bb437dc475cbe4eee13bad8c47a",
            "9072f60df1cf4b6ca11199d8dc385154",
            "1d9412f11a2b47e3904c38894166ecf0",
            "b29ef539b72a41b8a4d627558fae1510",
            "09b29b51eb3549f8a9b6cced5472ae2a",
            "84c7a00192cd4e439ae9d60e9f816aa0",
            "9ccc3909921348918aec32e0d7e02b2d",
            "b9be62cc9c034fbf91460cd0068560ba",
            "a881a3009d8e47f9af0f1ed2a6e17f9b",
            "81efe2c2d0104222bd67f0370a979609",
            "77bb13924085499da7044a58e549ba98",
            "59a425086798435dbc95c27061f470cc",
            "733a1dc9eff54018808627012b3dd516",
            "72a53ed33a4a4b9eb59f2180a42c034d",
            "24f39b421253439cb53b639540c5fd63"
          ]
        },
        "id": "caoONrpVpmo4",
        "outputId": "2aa5417e-bc97-4c55-e623-7ca2922f1892"
      },
      "execution_count": 17,
      "outputs": [
        {
          "output_type": "stream",
          "name": "stdout",
          "text": [
            "Downloading https://ai.stanford.edu/~jkrause/cars/car_devkit.tgz to stanford_cars/car_devkit.tgz\n"
          ]
        },
        {
          "output_type": "display_data",
          "data": {
            "text/plain": [
              "  0%|          | 0/330960 [00:00<?, ?it/s]"
            ],
            "application/vnd.jupyter.widget-view+json": {
              "version_major": 2,
              "version_minor": 0,
              "model_id": "082ee12ad10e4360bdf67ffe8d12153e"
            }
          },
          "metadata": {}
        },
        {
          "output_type": "stream",
          "name": "stdout",
          "text": [
            "Extracting stanford_cars/car_devkit.tgz to stanford_cars\n",
            "Downloading https://ai.stanford.edu/~jkrause/car196/cars_train.tgz to stanford_cars/cars_train.tgz\n"
          ]
        },
        {
          "output_type": "display_data",
          "data": {
            "text/plain": [
              "  0%|          | 0/979269282 [00:00<?, ?it/s]"
            ],
            "application/vnd.jupyter.widget-view+json": {
              "version_major": 2,
              "version_minor": 0,
              "model_id": "7e377511742d4556b19684fb25143843"
            }
          },
          "metadata": {}
        },
        {
          "output_type": "stream",
          "name": "stdout",
          "text": [
            "Extracting stanford_cars/cars_train.tgz to stanford_cars\n",
            "Using downloaded and verified file: stanford_cars/car_devkit.tgz\n",
            "Extracting stanford_cars/car_devkit.tgz to stanford_cars\n",
            "Downloading https://ai.stanford.edu/~jkrause/car196/cars_test.tgz to stanford_cars/cars_test.tgz\n"
          ]
        },
        {
          "output_type": "display_data",
          "data": {
            "text/plain": [
              "  0%|          | 0/977350468 [00:00<?, ?it/s]"
            ],
            "application/vnd.jupyter.widget-view+json": {
              "version_major": 2,
              "version_minor": 0,
              "model_id": "a249b0d310cc43bd8036be8ee82d73ca"
            }
          },
          "metadata": {}
        },
        {
          "output_type": "stream",
          "name": "stdout",
          "text": [
            "Extracting stanford_cars/cars_test.tgz to stanford_cars\n",
            "Downloading https://ai.stanford.edu/~jkrause/car196/cars_test_annos_withlabels.mat to stanford_cars/cars_test_annos_withlabels.mat\n"
          ]
        },
        {
          "output_type": "display_data",
          "data": {
            "text/plain": [
              "  0%|          | 0/185758 [00:00<?, ?it/s]"
            ],
            "application/vnd.jupyter.widget-view+json": {
              "version_major": 2,
              "version_minor": 0,
              "model_id": "09b29b51eb3549f8a9b6cced5472ae2a"
            }
          },
          "metadata": {}
        }
      ]
    },
    {
      "cell_type": "code",
      "source": [
        "from torchvision.transforms import ToPILImage\n",
        "import matplotlib.pyplot as plt\n",
        "import numpy as np\n",
        "def ScaleBack():\n",
        "  def scale_back(X):\n",
        "    X += 1\n",
        "    X /= 2\n",
        "    X = X.permute(1,2,0) # CHW to HWC\n",
        "    X *= 255.\n",
        "    return X.numpy().astype(np.uint8) #todo 깔끔하지 못하다.\n",
        "  return Lambda(scale_back)\n",
        "\n",
        "def show_image(image):\n",
        "    reverse_transforms = Compose([ #todo : 람다 한꺼번에 묶어서 함수로\n",
        "                                  ScaleBack(),\n",
        "                                  ToPILImage()\n",
        "                              ])\n",
        "\n",
        "    # Take first image of batch\n",
        "    if len(image.shape) == 4:\n",
        "        image = image[0, :, :, :] \n",
        "    plt.imshow(reverse_transforms(image))\n",
        "\n"
      ],
      "metadata": {
        "id": "RQcnqV0ypiN_"
      },
      "execution_count": 40,
      "outputs": []
    },
    {
      "cell_type": "code",
      "source": [
        "from torch import Tensor, int64\n",
        "\n",
        "plt.figure(figsize=(15,15)) # todo 이런것도 좀 깔끔하게 안되나.\n",
        "plt.axis('off')\n",
        "num_images = 10\n",
        "stepsize = int(T/num_images) #노이즈 횟수\n",
        "X0, _ = next(iter(dataloader)) # 확인 해보자\n",
        "for t in range(0, T, stepsize):\n",
        "  t = Tensor([t]).type(int64)\n",
        "  plt.subplot(1, num_images+1, (t/stepsize) + 1)\n",
        "  Xt, _ = diffuse(X0, t)\n",
        "  # todo:이미지 출력\n",
        "  show_image(Xt)"
      ],
      "metadata": {
        "id": "HSzAcoPvqm1f",
        "colab": {
          "base_uri": "https://localhost:8080/",
          "height": 116
        },
        "outputId": "c5da3f33-9a28-42a4-edc2-a52a5e51d8e6"
      },
      "execution_count": 41,
      "outputs": [
        {
          "output_type": "display_data",
          "data": {
            "text/plain": [
              "<Figure size 1080x1080 with 10 Axes>"
            ],
            "image/png": "[encoded data removed]"
          },
          "metadata": {
            "needs_background": "light"
          }
        }
      ]
    },
    {
      "cell_type": "code",
      "source": [
        "from torch.nn import Conv2d, ReLU, BatchNorm2d, Linear, ConvTranspose2d, Module\n",
        "from torch.nn.functional import relu\n",
        "class ConvActNorm(Module):\n",
        "    def __init__(self, in_ch, out_ch):\n",
        "      super().__init__()\n",
        "      self.conv = Conv2d(in_ch , out_ch, fs=3)\n",
        "      self.act = ReLU()\n",
        "      self.norm = BatchNorm2d(out_ch)\n",
        "    def forward(self,x):\n",
        "      return self.norm(relu(self.conv(x)))\n",
        "\n",
        "class Block(Module):\n",
        "    def __init__(self, in_ch, out_ch, time_emb_dim, is_up=None):\n",
        "        super().__init__()\n",
        "        self.mlp = Linear(time_emb_dim, out_ch)\n",
        "        if is_up:\n",
        "          in_ch = 2* in_ch\n",
        "          Interpolate2d = ConvTranspose2d\n",
        "        else:\n",
        "          Interpolate2d = Conv2d #todo 줄 너무 길다!!\n",
        "        self.CAN1, self.CAN2 = ConvActNorm(in_ch, out_ch), ConvActNorm(out_ch, out_ch)\n",
        "        self.Down_or_Up = Interpolate2d(out_ch, out_ch, 4, 2, 1)\n",
        "\n",
        "    def forward(self, x, t):\n",
        "        time_embedding = relu(self.mlp(t))\n",
        "        h = self.CAN1(x)\n",
        "        h += time_embedding[ (..., ) + (None, None) ] # for 무슨 그 casting\n",
        "        h = self.CAN2(h)\n",
        "        return self.Down_or_Up(h)"
      ],
      "metadata": {
        "id": "8iPvzwb5r9lC"
      },
      "execution_count": 43,
      "outputs": []
    },
    {
      "cell_type": "code",
      "source": [
        "from torch import cat, exp\n",
        "class SinusoidalPositionEmbeddings(Module):   # todo 이건 또 개념부터 설명해야\n",
        "    def __init__(self, dim):\n",
        "        super().__init__()\n",
        "        self.dim = dim\n",
        "\n",
        "    def forward(self, time):\n",
        "        device = time.device\n",
        "        half_dim = self.dim // 2\n",
        "        embeddings = math.log(10000) / (half_dim - 1) #todo 이런거 계산 깔끔하게 하고싶다\n",
        "        embeddings = torch.exp(torch.arange(half_dim, device=device) * -embeddings)\n",
        "        embeddings = time[:, None] * embeddings[None, :]\n",
        "        embeddings = torch.cat((embeddings.sin(), embeddings.cos()), dim=-1)\n",
        "        # TODO: Double check the ordering here\n",
        "        return embeddings"
      ],
      "metadata": {
        "id": "ND37WLCw2Iz5"
      },
      "execution_count": null,
      "outputs": []
    },
    {
      "cell_type": "code",
      "source": [
        "from torch.nn import ModuleList\n",
        "\n",
        "class Unet(Module):\n",
        "    def __init__(self, chs = (64, 128, 256, 512), time_emb_dim = 32):\n",
        "        super().__init__()\n",
        "        img_ch = 3\n",
        "        # Time embedding\n",
        "        self.time_mlp = nn.Sequential(\n",
        "                SinusoidalPositionEmbeddings(time_emb_dim),\n",
        "                Linear(time_emb_dim, time_emb_dim)\n",
        "            )\n",
        "        # Initial projection\n",
        "        self.init = Conv2d(img_ch, chs[0], filter_size=3, pad=1) #todo  filter size\n",
        "        # Downsample\n",
        "        self.downs = ModuleList([Block(chs[i], chs[i+1], \\\n",
        "                                    time_emb_dim, is_up=False) \\\n",
        "                    for i in range(len(chs)-1)])\n",
        "        # Upsample\n",
        "        self.ups = ModuleList([Block(chs[i], chs[i+1], \\\n",
        "                                        time_emb_dim, is_up=True) \\\n",
        "                    for i in reversed(range(len(chs)-1))])\n",
        "\n",
        "        self.out = Conv2d(chs[0], img_ch, fs=1)\n",
        "\n",
        "    def forward(self, x, t):\n",
        "        x, t, residuals = self.init(x), relu(self.time_mlp(t)), []\n",
        "        # Unet\n",
        "        for down in self.downs:\n",
        "            x = down(x, t)\n",
        "            residuals.append(x)\n",
        "\n",
        "        for up in self.ups:\n",
        "            x = cat( [x, residuals.pop()] )           \n",
        "            x = up(x, t)\n",
        "        return self.out(x)"
      ],
      "metadata": {
        "id": "4A1wbsbfrXBN"
      },
      "execution_count": 44,
      "outputs": []
    },
    {
      "cell_type": "code",
      "source": [
        "from torch.optim import Adam\n",
        "\n",
        "model = Unet()\n",
        "optimizer = Adam(model.parameters(), lr=0.001)"
      ],
      "metadata": {
        "id": "KWj8-dQn2TWP",
        "colab": {
          "base_uri": "https://localhost:8080/",
          "height": 340
        },
        "outputId": "57945474-a51e-424d-f2eb-98f2c4de79b2"
      },
      "execution_count": 45,
      "outputs": [
        {
          "output_type": "error",
          "ename": "NameError",
          "evalue": "ignored",
          "traceback": [
            "\u001b[0;31m---------------------------------------------------------------------------\u001b[0m",
            "\u001b[0;31mNameError\u001b[0m                                 Traceback (most recent call last)",
            "\u001b[0;32m<ipython-input-45-5907b4457bd1>\u001b[0m in \u001b[0;36m<module>\u001b[0;34m\u001b[0m\n\u001b[1;32m      1\u001b[0m \u001b[0;32mfrom\u001b[0m \u001b[0mtorch\u001b[0m\u001b[0;34m.\u001b[0m\u001b[0moptim\u001b[0m \u001b[0;32mimport\u001b[0m \u001b[0mAdam\u001b[0m\u001b[0;34m\u001b[0m\u001b[0;34m\u001b[0m\u001b[0m\n\u001b[1;32m      2\u001b[0m \u001b[0;34m\u001b[0m\u001b[0m\n\u001b[0;32m----> 3\u001b[0;31m \u001b[0mmodel\u001b[0m \u001b[0;34m=\u001b[0m \u001b[0mUnet\u001b[0m\u001b[0;34m(\u001b[0m\u001b[0;34m)\u001b[0m\u001b[0;34m\u001b[0m\u001b[0;34m\u001b[0m\u001b[0m\n\u001b[0m\u001b[1;32m      4\u001b[0m \u001b[0moptimizer\u001b[0m \u001b[0;34m=\u001b[0m \u001b[0mAdam\u001b[0m\u001b[0;34m(\u001b[0m\u001b[0mmodel\u001b[0m\u001b[0;34m.\u001b[0m\u001b[0mparameters\u001b[0m\u001b[0;34m(\u001b[0m\u001b[0;34m)\u001b[0m\u001b[0;34m,\u001b[0m \u001b[0mlr\u001b[0m\u001b[0;34m=\u001b[0m\u001b[0;36m0.001\u001b[0m\u001b[0;34m)\u001b[0m\u001b[0;34m\u001b[0m\u001b[0;34m\u001b[0m\u001b[0m\n",
            "\u001b[0;32m<ipython-input-44-f7c307ddd58f>\u001b[0m in \u001b[0;36m__init__\u001b[0;34m(self, chs, time_emb_dim)\u001b[0m\n\u001b[1;32m      6\u001b[0m         \u001b[0mimg_ch\u001b[0m \u001b[0;34m=\u001b[0m \u001b[0;36m3\u001b[0m\u001b[0;34m\u001b[0m\u001b[0;34m\u001b[0m\u001b[0m\n\u001b[1;32m      7\u001b[0m         \u001b[0;31m# Time embedding\u001b[0m\u001b[0;34m\u001b[0m\u001b[0;34m\u001b[0m\u001b[0;34m\u001b[0m\u001b[0m\n\u001b[0;32m----> 8\u001b[0;31m         self.time_mlp = nn.Sequential(\n\u001b[0m\u001b[1;32m      9\u001b[0m                 \u001b[0mSinusoidalPositionEmbeddings\u001b[0m\u001b[0;34m(\u001b[0m\u001b[0mtime_emb_dim\u001b[0m\u001b[0;34m)\u001b[0m\u001b[0;34m,\u001b[0m\u001b[0;34m\u001b[0m\u001b[0;34m\u001b[0m\u001b[0m\n\u001b[1;32m     10\u001b[0m                 \u001b[0mLinear\u001b[0m\u001b[0;34m(\u001b[0m\u001b[0mtime_emb_dim\u001b[0m\u001b[0;34m,\u001b[0m \u001b[0mtime_emb_dim\u001b[0m\u001b[0;34m)\u001b[0m\u001b[0;34m\u001b[0m\u001b[0;34m\u001b[0m\u001b[0m\n",
            "\u001b[0;31mNameError\u001b[0m: name 'nn' is not defined"
          ]
        }
      ]
    },
    {
      "cell_type": "code",
      "source": [
        "  \"\"\" \n",
        "  X0, t :  an image, a timestep \n",
        "  \"\"\""
      ],
      "metadata": {
        "id": "0fXAZDL14CV0"
      },
      "execution_count": null,
      "outputs": []
    },
    {
      "cell_type": "code",
      "source": [
        "def trainer(model, optimizer, dataloader):\n",
        "  for step, (X0, _) in enumerate(dataloader):\n",
        "    optimizer.zero_grad()\n",
        "    t = randint(0, T, (BATCH_SIZE,))\n",
        "\n",
        "    Xt, noise = diffuse(X0, t) # Xt : a noisy image\n",
        "\n",
        "    predicted = model(Xt, t)\n",
        "\n",
        "    loss = L2_loss(noise, predicted)\n",
        "    \n",
        "    loss.backward()\n",
        "    optimizer.step()\n",
        "  return loss"
      ],
      "metadata": {
        "id": "E4CR4o-n5ggc"
      },
      "execution_count": null,
      "outputs": []
    },
    {
      "cell_type": "code",
      "source": [
        "  if epoch % 5 == 0 and step == 0:\n",
        "    print(f\"Epoch {epoch} | Loss: {loss.item()} \")\n",
        "    sample_plot_image()"
      ],
      "metadata": {
        "id": "dpmVZSk27loh"
      },
      "execution_count": null,
      "outputs": []
    },
    {
      "cell_type": "markdown",
      "source": [
        "#Training"
      ],
      "metadata": {
        "id": "eUnx-TVc2l-P"
      }
    },
    {
      "cell_type": "code",
      "source": [
        "epochs = 100\n",
        "for epoch in range(epochs):\n",
        "  loss = trainer()\n"
      ],
      "metadata": {
        "id": "bc_Zigq32Y3Y"
      },
      "execution_count": null,
      "outputs": []
    },
    {
      "cell_type": "code",
      "source": [
        "sqrt_recip_alphas = sqrt(1.0 / alphas)\n",
        "sqrt_one_minus_alphas_cumprod = sqrt(1. - alphas_cumprod)\n",
        "posterior_variance = betas * (1. - cumprod_prev) / (1. - alphas_cumprod)"
      ],
      "metadata": {
        "id": "IET4Um8b2k-A"
      },
      "execution_count": null,
      "outputs": []
    },
    {
      "cell_type": "markdown",
      "source": [
        "#Sampling"
      ],
      "metadata": {
        "id": "yr40LxJ9dcd7"
      }
    },
    {
      "cell_type": "code",
      "source": [
        "def inference(T):\n",
        "  Xt = XT = noise = randn_like(x) # todo 이거 x 어쩌니\n",
        "\n",
        "  for t in range(T, 0, -1):\n",
        "    Xt_prev = sample_to_inference(Xt, t) #todo 함수 이름 조금 고민하자\n",
        "    Xt = Xt_prev # 알고리즘 설명을 위해\n",
        "  X0_generated = sample_to_inference(Xt_prev, 0)\n",
        "  #의미를 살리기 위해...\n",
        "  return X0__generated # todo 이름 어떻게 할까나\n",
        "\n",
        "X0_list = []\n",
        "n = 10 # 생성 결과 몇 개 뽑고 싶은데?\n",
        "for i in range(n):\n",
        "  X0_list.append(inference(T))\n",
        "\n",
        "# todo show 이미지"
      ],
      "metadata": {
        "id": "SVt1vllUf_TW"
      },
      "execution_count": null,
      "outputs": []
    },
    {
      "cell_type": "code",
      "source": [
        "from torch import no_grad\n",
        "@no_grad()\n",
        "def sample_to_inference(Xt, t): \n",
        "    \"\"\"\n",
        "    Calls the model \n",
        "    to predict the noise in the image and returns the denoised image. \n",
        "    Applies noise to this image, if we are not in the last step yet.\n",
        "    \"\"\"\n",
        "    betas_t = get_index_from_list(betas, t, Xt.shape)\n",
        "    \n",
        "    sqrt_one_minus_alphas_cumprod_t = get_index_from_list(\n",
        "        sqrt_one_minus_alphas_cumprod, t, Xt.shape\n",
        "    )\n",
        "    \n",
        "    sqrt_recip_alphas_t = get_index_from_list(sqrt_recip_alphas, t, Xt.shape)\n",
        "    \n",
        "    # Call model (current image - noise prediction)\n",
        "    noise_predicted = model(Xt, t)\n",
        "    diff = Xt - betas_t * noise_predicted\n",
        "    model_mean = sqrt_recip_alphas_t * ( diff / sqrt_one_minus_alphas_cumprod_t)\n",
        "\n",
        "\n",
        "    posterior_variance_t = get_index_from_list(posterior_variance, t, Xt.shape)\n",
        "    \n",
        "\n",
        "    if t == 0:  # 논문에도 있다\n",
        "        return model_mean\n",
        "    else:\n",
        "        noise = randn_like(Xt) \n",
        "        return model_mean + sqrt(posterior_variance_t) * noise\n",
        "\n",
        "@no_grad()\n",
        "def sample_plot_image():\n",
        "    # Sample noise\n",
        "    img_size = IMG_SIZE\n",
        "    img = torch.randn((1, 3, img_size, img_size), device=device)\n",
        "    plt.figure(figsize=(15,15))\n",
        "    plt.axis('off')\n",
        "    num_images = 10\n",
        "    stepsize = int(T/num_images)\n",
        "\n",
        "    for i in range(0,T)[::-1]:\n",
        "        t = torch.full((1,), i, device=device, dtype=torch.long)\n",
        "        img = sample_timestep(img, t)\n",
        "        if i % stepsize == 0:\n",
        "            plt.subplot(1, num_images, i/stepsize+1)\n",
        "            show_tensor_image(img.detach().cpu())\n",
        "    plt.show()      "
      ],
      "metadata": {
        "id": "Zma13S-8dfGh"
      },
      "execution_count": null,
      "outputs": []
    }
  ]
}